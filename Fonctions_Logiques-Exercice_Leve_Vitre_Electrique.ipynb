{
 "cells": [
  {
   "cell_type": "markdown",
   "source": [
    "# Fonctions Logiques - Exercice Lève Vitre électrique :\r\n",
    "\r\n",
    "Développer une logique de commande d'un lève vitre de voiture en faisant évoluer le cahier des charges fonctionel tel que :\r\n",
    "\r\n",
    "- **cdcf_1 : Commande combinatoire de la vitre du coté chauffeur :**\r\n",
    "    \r\n",
    "    Lorsque le chauffeur soulève le bouton de commande (entrée bpmc) cela doit provoquer la montée (sortie M) de la vitre par l’intermédiaire d’un motoréducteur, et lorsqu’il appuie sur ce même bouton (entrée bpdc) cela doit provoquer la descente (sortie D) de la vitre.\r\n",
    "    \r\n",
    "    La montée comme la descente doivent s’arrêter lorsque la vitre arrive en fin de course (entrée fdc).\r\n",
    "    \r\n",
    "\r\n",
    "- **cdcf_2 : Commande combinatoire de la vitre du coté passager :**\r\n",
    "    \r\n",
    "    Lorsque le passager soulève le bouton de commande (entrée bpmp) cela doit provoquer la montée (sortie M) de la vitre par l’intermédiaire d’un motoréducteur, et lorsqu’il appuie sur ce même bouton (entrée bpdp) cela doit provoquer la descente (sortie D) de la vitre.\r\n",
    "    La vitre du coté passager doit également pouvoir être commandée depuis le coté chauffeur par les entrées bpmc et bpdc.\r\n",
    "    \r\n",
    "    La montée comme la descente doivent s’arrêter lorsque la vitre arrive en fin de course (entrée fdc).\r\n",
    "    \r\n",
    "\r\n",
    "- **cdcf_3 : Commande séquentielle de la vitre du coté passager :**\r\n",
    "    \r\n",
    "    Lorsque le passager soulève le bouton de commande (entrée bpmp), la vitre doit monter (sortie M).\r\n",
    "    \r\n",
    "    S’il relâche le bouton, alors la vitre continue de monter jusqu’à ce quelle arrive en fin de course (entrée fdc).\r\n",
    "    \r\n",
    "    Lorsqu’il appuie sur ce même bouton (entrée bpdp), la vitre doit descendre (sortie D) jusqu’à sa fin de course…\r\n",
    "    \r\n",
    "\r\n",
    "- **cdcf_4 : Imaginer votre propre évolution du fonctionnement et le mettre en oeuvre**\r\n",
    "\r\n",
    "**Dans chaque cas :**\r\n",
    "\r\n",
    "- Ecrire les équations logiques de commande pour la Montée et la Descente ;\r\n",
    "- Simuler sur https://logic.ly/demo et vérifier le fonctionnement prévu ;\r\n",
    "- Simuler sur [https://fr.vittascience.com](https://fr.vittascience.com/microbit/?lang=fr&mode=mixed) et vérifier le fonctionnement prévu ;\r\n",
    "- Simuler dans une cellule Python de ce notebook et vérifier le fonctionnement prévu ;\r\n",
    "- Expérimenter vos codes sur le système réel du laboratoire...\r\n",
    "\r\n",
    "<hr>"
   ],
   "metadata": {}
  },
  {
   "cell_type": "markdown",
   "source": [],
   "metadata": {}
  }
 ],
 "metadata": {
  "orig_nbformat": 4,
  "language_info": {
   "name": "python",
   "version": "3.9.1",
   "mimetype": "text/x-python",
   "codemirror_mode": {
    "name": "ipython",
    "version": 3
   },
   "pygments_lexer": "ipython3",
   "nbconvert_exporter": "python",
   "file_extension": ".py"
  },
  "kernelspec": {
   "name": "python3",
   "display_name": "Python 3.9.1 64-bit"
  },
  "interpreter": {
   "hash": "993719309b7497d4ea980752fffbdfc5c91491f5d8efe44ee08128fdc39f9023"
  }
 },
 "nbformat": 4,
 "nbformat_minor": 2
}