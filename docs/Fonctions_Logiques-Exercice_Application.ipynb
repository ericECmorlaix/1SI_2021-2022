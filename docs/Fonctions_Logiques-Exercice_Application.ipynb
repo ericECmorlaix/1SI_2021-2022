{
 "cells": [
  {
   "cell_type": "markdown",
   "source": [
    "# Fonctions Logiques - Exercice d'application :"
   ],
   "metadata": {}
  },
  {
   "cell_type": "markdown",
   "source": [
    "<h2 class='fa fa-graduation-cap' style=\"color: purple\">  <strong>Répondre</strong> aux questions suivantes :</h2>\r\n",
    "\r\n",
    "A qui Google rendait hommage le 2 novembre 2015 en mettant sur la page d'accueil de son moteur de recherche le doodle ci-dessous ?\r\n",
    "\r\n",
    "<br>\r\n",
    "<img  src=\"https://ericecmorlaix.github.io/img/doodle_George.gif\" alt=\"doodle_George\">\r\n",
    "<br>\r\n",
    "\r\n",
    "Indice : lorsque l'on cliquait sur l'image, cela ouvrait [cette page de résultats de recherche...](https://www.google.fr/search?q=George+Boole&oi=ddle&ct=george-booles-200th-birthday-5636122663190528&hl=fr)\r\n",
    "\r\n",
    "\r\n",
    "Quelles étaient les raisons de cet hommage rendu par Google ?\r\n",
    "\r\n",
    "> .......................................................\r\n",
    "\r\n",
    "Qu'est-ce qu'une variable booléenne ?\r\n",
    "\r\n",
    "> .......................................................\r\n",
    "\r\n",
    "Qu'elles sont les principales fonctions (opérations) booléennes ?\r\n",
    "\r\n",
    "> .......................................................\r\n",
    "\r\n",
    "Expliquer en observant le gif animé du doodle ci-dessus, les conditions pour que :\r\n",
    "\r\n",
    "- le G s'allume en bleu  :\r\n",
    "\r\n",
    "> .......................................................\r\n",
    "\r\n",
    "- le deuxième o s'allume en jaune :\r\n",
    "\r\n",
    "> .......................................................\r\n",
    "\r\n",
    "- le l s'allume en vert :\r\n",
    "\r\n",
    "> .......................................................\r\n",
    "\r\n",
    "- le e s'allume en rouge :\r\n",
    "\r\n",
    "> .......................................................\r\n",
    "\r\n",
    "- le premier o s'allume en rouge :\r\n",
    "\r\n",
    "> .......................................................\r\n",
    "\r\n"
   ],
   "metadata": {}
  }
 ],
 "metadata": {
  "orig_nbformat": 4,
  "language_info": {
   "name": "python"
  }
 },
 "nbformat": 4,
 "nbformat_minor": 2
}