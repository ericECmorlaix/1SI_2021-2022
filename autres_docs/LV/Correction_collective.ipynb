{
 "cells": [
  {
   "cell_type": "markdown",
   "metadata": {},
   "source": [
    "# Fonctions Logiques - Exercice Lève Vitre électrique - Correction collective :\n",
    "\n",
    "Développer une logique de commande d'un lève vitre de voiture en faisant évoluer le cahier des charges fonctionel tel que :\n",
    "\n",
    "***\n",
    "## cdcf_1 : Commande combinatoire de la vitre du coté chauffeur :\n",
    "    \n",
    "Lorsque le chauffeur soulève le bouton de commande (entrée bpmc) cela doit provoquer la montée (sortie M) de la vitre par l’intermédiaire d’un motoréducteur, et lorsqu’il appuie sur ce même bouton (entrée bpdc) cela doit provoquer la descente (sortie D) de la vitre.\n",
    "    \n",
    "La montée comme la descente doivent s’arrêter lorsque la vitre arrive en fin de course (entrée fdc)."
   ]
  },
  {
   "cell_type": "markdown",
   "metadata": {},
   "source": [
    "### Equations booléennes : \n",
    "\n",
    "$$M= bpmc \\bullet \\overline{bpdc} \\bullet \\overline{fdc}$$\n",
    "$$D= bpdc \\bullet \\overline{bpmc} \\bullet \\overline{fdc}$$"
   ]
  },
  {
   "cell_type": "markdown",
   "metadata": {},
   "source": [
    "### Logic demo :\n",
    "\n",
    "![CDCF1](cdcf_1.jpg)"
   ]
  },
  {
   "cell_type": "markdown",
   "metadata": {},
   "source": [
    "### Simulation Vittascience :\n",
    "\n",
    "https://fr.vittascience.com/microbit/?link=618929bf6cb35&simu=1\n",
    "\n",
    "```python\n",
    "\"\"\"\n",
    "Nom du projet: LV-Cdcf_ 1\n",
    "Description: Commande combinatoire de la vitre du coté chauffeur :\n",
    "\n",
    "Lorsque le chauffeur soulève le bouton de commande (entrée bpmc)\n",
    "cela doit provoquer la montée (sortie M) de la vitre par l’intermédiaire d’un motoréducteur,\n",
    "et lorsqu’il appuie sur ce même bouton (entrée bpdc) cela doit provoquer la descente (sortie D) de la vitre.\n",
    "\n",
    "La montée comme la descente doivent s’arrêter lorsque la vitre arrive en fin de course (entrée fdc).\n",
    "\"\"\"\n",
    "\n",
    "from microbit import *\n",
    "\n",
    "while True:\n",
    "    bpmc = pin5.read_digital()\n",
    "    bpdc = pin11.read_digital()\n",
    "    fdc = pin1.read_digital()\n",
    "    if bpmc and not bpdc and not fdc:\n",
    "        led_image = Image('00900:09990:90909:00900:00900')\n",
    "        display.show(led_image)\n",
    "    elif bpdc and not bpmc and not fdc:\n",
    "        led_image = Image('00900:00900:90909:09990:00900')\n",
    "        display.show(led_image)\n",
    "    else:\n",
    "        display.show(Image.NO)\n",
    "```"
   ]
  },
  {
   "cell_type": "markdown",
   "metadata": {},
   "source": [
    "***\n",
    "## cdcf_2 : Commande combinatoire de la vitre du coté passager :\n",
    "    \n",
    "Lorsque le passager soulève le bouton de commande (entrée bpmp) cela doit provoquer la montée (sortie M) de la vitre par l’intermédiaire d’un motoréducteur, et lorsqu’il appuie sur ce même bouton (entrée bpdp) cela doit provoquer la descente (sortie D) de la vitre.\n",
    "La vitre du coté passager doit également pouvoir être commandée depuis le coté chauffeur par les entrées bpmc et bpdc.\n",
    "    \n",
    "La montée comme la descente doivent s’arrêter lorsque la vitre arrive en fin de course (entrée fdc)."
   ]
  },
  {
   "cell_type": "markdown",
   "metadata": {},
   "source": [
    "### Equations booléennes : \n",
    "\n",
    "$$ M = bpmp \\bullet \\overline{bpdp} \\bullet \\overline{fdc} + bpmc \\bullet \\overline{bpdc} \\bullet \\overline{fdc}$$\n",
    "$$ D = bpdp \\bullet \\overline{bpmp} \\bullet \\overline{fdc} + bpdc \\bullet \\overline{bpmc}\\bullet \\overline{fdc}$$"
   ]
  },
  {
   "cell_type": "markdown",
   "metadata": {},
   "source": [
    "### Logic demo\n",
    "\n",
    "![CDCF2](cdcf_2.jpg)"
   ]
  },
  {
   "cell_type": "markdown",
   "metadata": {},
   "source": [
    "### Simulation Vittasciences\n",
    "\n",
    "https://fr.vittascience.com/microbit/?link=61892e88cc43a&simu=1\n",
    "\n",
    "```python\n",
    "\"\"\"\n",
    "Nom du projet: LV-Cdcf_2\n",
    "Description: Commande combinatoire de la vitre du coté passager :\n",
    "Lorsque le passager soulève le bouton de commande (entrée bpmp) cela doit provoquer la montée (sortie M) de la vitre par l’intermédiaire d’un motoréducteur, et lorsqu’il appuie sur ce même bouton (entrée bpdp) cela doit provoquer la descente (sortie D) de la vitre. La vitre du coté passager doit également pouvoir être commandée depuis le coté chauffeur par les entrées bpmc et bpdc.\n",
    "\n",
    "La montée comme la descente doivent s’arrêter lorsque la vitre arrive en fin de course (entrée fdc).\n",
    "\"\"\"\n",
    "\n",
    "from microbit import *\n",
    "\n",
    "while True:\n",
    "    Bpmc = pin5.read_digital()\n",
    "    Bpmp = pin11.read_digital()\n",
    "    Bpdc = pin0.read_digital()\n",
    "    Bpdp = pin1.read_digital()\n",
    "    Fdc = pin2.read_digital()\n",
    "    if not Fdc and (Bpmp and not Bpdp or Bpmc and not Bpdc):\n",
    "        led_image = Image('00900:09990:90909:00900:00900')\n",
    "        display.show(led_image)\n",
    "    elif not Fdc and (Bpdp and not Bpmp or Bpdc and not Bpmc):\n",
    "        led_image = Image('00900:00900:90909:09990:00900')\n",
    "        display.show(led_image)\n",
    "    else:\n",
    "        display.show(Image.NO)\n",
    "\n",
    "```"
   ]
  },
  {
   "cell_type": "markdown",
   "metadata": {},
   "source": [
    "***\n",
    "\n",
    "- **cdcf_3 : Commande séquentielle de la vitre du coté passager :**\n",
    "    \n",
    "    Lorsque le passager soulève le bouton de commande (entrée bpmp), la vitre doit monter (sortie M).\n",
    "    \n",
    "    S’il relâche le bouton, alors la vitre continue de monter jusqu’à ce quelle arrive en fin de course (entrée fdc).\n",
    "    \n",
    "    Lorsqu’il appuie sur ce même bouton (entrée bpdp), la vitre doit descendre (sortie D) jusqu’à sa fin de course…\n",
    "    \n",
    "\n",
    "- **cdcf_4 : Imaginer votre propre évolution du fonctionnement et le mettre en oeuvre**\n",
    "\n",
    "**Dans chaque cas :**\n",
    "\n",
    "- Ecrire les équations logiques de commande pour la Montée et la Descente ;\n",
    "- Simuler sur https://logic.ly/demo et vérifier le fonctionnement prévu ;\n",
    "- Simuler sur [https://fr.vittascience.com](https://fr.vittascience.com/microbit/?lang=fr&mode=mixed) et vérifier le fonctionnement prévu ;\n",
    "- Simuler dans une cellule Python de ce notebook et vérifier le fonctionnement prévu ;\n",
    "- Expérimenter vos codes sur le système réel du laboratoire...\n"
   ]
  }
 ],
 "metadata": {
  "language_info": {
   "name": "python"
  },
  "orig_nbformat": 4
 },
 "nbformat": 4,
 "nbformat_minor": 2
}
